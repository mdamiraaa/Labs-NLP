{
  "nbformat": 4,
  "nbformat_minor": 0,
  "metadata": {
    "anaconda-cloud": {},
    "colab": {
      "name": "LabXOR.ipynb",
      "provenance": [],
      "collapsed_sections": []
    },
    "kernelspec": {
      "display_name": "Python 3",
      "language": "python",
      "name": "python3"
    },
    "language_info": {
      "codemirror_mode": {
        "name": "ipython",
        "version": 3
      },
      "file_extension": ".py",
      "mimetype": "text/x-python",
      "name": "python",
      "nbconvert_exporter": "python",
      "pygments_lexer": "ipython3",
      "version": "3.6.3"
    }
  },
  "cells": [
    {
      "cell_type": "markdown",
      "metadata": {
        "colab_type": "text",
        "id": "vSbZiCtDU9hg"
      },
      "source": [
        "## Lab: Backprop method\n",
        "### Tasks:\n",
        "* Plot the error\n",
        "* Model XOR with the help of sigmoid\n",
        "* Add moments rule to learning equation\n"
      ]
    },
    {
      "cell_type": "code",
      "metadata": {
        "colab_type": "code",
        "id": "XvjwWQGSU9hj",
        "colab": {}
      },
      "source": [
        "import numpy as np\n",
        "\n",
        "k = 1\n",
        "def sigmoid(x):\n",
        "    return 1.0/(1.0 + np.exp(-k*x))\n",
        "\n",
        "def sigmoid_prime(x):\n",
        "    return sigmoid(x)*(1.0-sigmoid(x))\n",
        "\n",
        "def tanh(x):\n",
        "    return np.tanh(x)\n",
        "\n",
        "def tanh_prime(x):\n",
        "    return 1.0 - x**2\n",
        "\n"
      ],
      "execution_count": 0,
      "outputs": []
    },
    {
      "cell_type": "code",
      "metadata": {
        "colab_type": "code",
        "id": "9YdPo55FU9hm",
        "outputId": "562f4463-71d7-4bde-937e-f765a92e9b6a",
        "colab": {
          "base_uri": "https://localhost:8080/",
          "height": 364
        }
      },
      "source": [
        "import numpy as np\n",
        "\n",
        "\n",
        "class NeuralNetwork:\n",
        "\n",
        "    def __init__(self, layers):\n",
        "        self.activation = sigmoid\n",
        "        self.activation_prime = sigmoid_prime\n",
        "\n",
        "        # self.activation = tanh\n",
        "        # self.activation_prime = tanh_prime\n",
        "\n",
        "        # Set weights\n",
        "        self.weights = []\n",
        "        self.errors = []\n",
        "        self.epochs = []\n",
        "        # layers = [2,2,1]\n",
        "        # range of weight values (-1,1)\n",
        "        # input and hidden layers - random((2+1, 2+1)) : 3 x 3\n",
        "        \n",
        "        for i in range(1, len(layers) - 1):\n",
        "            r = 2*np.random.random((layers[i-1] + 1, layers[i] + 1)) -1\n",
        "            self.weights.append(r)\n",
        "            print(r)\n",
        "        # output layer - random((2+1, 1)) : 3 x 1\n",
        "        r = 2*np.random.random( (layers[i] + 1, layers[i+1])) - 1\n",
        "        print(r)\n",
        "        self.weights.append(r)\n",
        "\n",
        "    def fit(self, X, y, learning_rate=0.2, epochs=100000):\n",
        "        # Add column of ones to X\n",
        "        # This is to add the bias unit to the input layer\n",
        "        ones = np.atleast_2d(np.ones(X.shape[0]))\n",
        "        X = np.concatenate((ones.T, X), axis=1)\n",
        "        for k in range(epochs):\n",
        "            i = np.random.randint(X.shape[0])\n",
        "            a = [X[i]]\n",
        "\n",
        "            for l in range(len(self.weights)):\n",
        "                    dot_value = np.dot(a[l], self.weights[l])\n",
        "                    activation = self.activation(dot_value)\n",
        "                    a.append(activation)\n",
        "            # output layer\n",
        "            error = y[i] - a[-1]\n",
        "            #print('error:', error)\n",
        "            self.errors.append(error[0])\n",
        "            self.epochs.append(k)\n",
        "            deltas = [error * self.activation_prime(a[-1])]\n",
        "\n",
        "            # we have to start at the second to last layer \n",
        "            # (a layer before the output layer)\n",
        "            for l in range(len(a) - 2, 0, -1): \n",
        "                deltas.append(deltas[-1].dot(self.weights[l].T)*self.activation_prime(a[l]))\n",
        "\n",
        "            # reverse\n",
        "            # [level3(output)->level2(hidden)]  => [level2(hidden)->level3(output)]\n",
        "            deltas.reverse()\n",
        "\n",
        "            # backpropagation\n",
        "            # 1. Multiply its output delta and input activation \n",
        "            #    to get the gradient of the weight.\n",
        "            # 2. Subtract a ratio (percentage) of the gradient from the weight.\n",
        "            for i in range(len(self.weights)):\n",
        "                layer = np.atleast_2d(a[i])\n",
        "                delta = np.atleast_2d(deltas[i])\n",
        "                self.weights[i] += learning_rate * layer.T.dot(delta)\n",
        "\n",
        "            if k % 10000 == 0: \n",
        "                print('epochs:', k)\n",
        "\n",
        "    def predict(self, x): \n",
        "    \n",
        "        a = np.concatenate((np.ones(1).T, np.array(x)))      \n",
        "\n",
        "        for l in range(0, len(self.weights)):\n",
        "            a = self.activation(np.dot(a, self.weights[l]))\n",
        "        return a\n",
        "\n",
        "if __name__ == '__main__':\n",
        "\n",
        "    nn = NeuralNetwork([2,2,1])\n",
        "    X = np.array([[0, 0],\n",
        "                  [0, 1],\n",
        "                  [1, 0],\n",
        "                  [1, 1]])\n",
        "    y = np.array([0, 1, 1, 0])\n",
        "#     X = np.array([[-1, -1],\n",
        "#                   [-1, 1],\n",
        "#                   [1, -1],\n",
        "#                   [1, 1]])\n",
        "#     y = np.array([0, 1, 1, 0])\n",
        "\n",
        "    nn.fit(X, y)\n",
        "    for e in X:\n",
        "        print(e,nn.predict(e))"
      ],
      "execution_count": 4,
      "outputs": [
        {
          "output_type": "stream",
          "text": [
            "[[-0.44112659 -0.42328374 -0.03029819]\n",
            " [ 0.2866378   0.75030165 -0.12677578]\n",
            " [-0.68173099 -0.62252103  0.6475196 ]]\n",
            "[[ 0.99370225]\n",
            " [ 0.29433994]\n",
            " [-0.43580839]]\n",
            "epochs: 0\n",
            "epochs: 10000\n",
            "epochs: 20000\n",
            "epochs: 30000\n",
            "epochs: 40000\n",
            "epochs: 50000\n",
            "epochs: 60000\n",
            "epochs: 70000\n",
            "epochs: 80000\n",
            "epochs: 90000\n",
            "[0 0] [0.48000795]\n",
            "[0 1] [0.48975619]\n",
            "[1 0] [0.48906295]\n",
            "[1 1] [0.49441271]\n"
          ],
          "name": "stdout"
        }
      ]
    },
    {
      "cell_type": "code",
      "metadata": {
        "id": "YLdVwVsf-LBi",
        "colab_type": "code",
        "outputId": "d755a47d-c1a0-45ec-d843-d189827edf9b",
        "colab": {
          "base_uri": "https://localhost:8080/",
          "height": 283
        }
      },
      "source": [
        "import matplotlib.pyplot as plt\n",
        "import numpy as np\n",
        "%matplotlib inline\n",
        "x = np.linspace(-10.0,10.0,100)\n",
        "sig = sigmoid_prime(x)\n",
        "plt.plot(x,sig)"
      ],
      "execution_count": 5,
      "outputs": [
        {
          "output_type": "execute_result",
          "data": {
            "text/plain": [
              "[<matplotlib.lines.Line2D at 0x7f91fa8ff748>]"
            ]
          },
          "metadata": {
            "tags": []
          },
          "execution_count": 5
        },
        {
          "output_type": "display_data",
          "data": {
            "image/png": "[encoded data removed]",
            "text/plain": [
              "<Figure size 432x288 with 1 Axes>"
            ]
          },
          "metadata": {
            "tags": []
          }
        }
      ]
    },
    {
      "cell_type": "markdown",
      "metadata": {
        "id": "_U1g8AEmI6vE",
        "colab_type": "text"
      },
      "source": [
        "1.Plot the error\n"
      ]
    },
    {
      "cell_type": "code",
      "metadata": {
        "colab_type": "code",
        "id": "7cD3KhlqU9h6",
        "outputId": "f7370031-d1a4-4592-99ba-011edbdcd426",
        "colab": {
          "base_uri": "https://localhost:8080/",
          "height": 265
        }
      },
      "source": [
        "er = nn.errors\n",
        "e = nn.epochs\n",
        "#print(e)\n",
        "plt.figure(2)\n",
        "plt.scatter(er, e, marker= 'o')\n",
        "plt.show()"
      ],
      "execution_count": 7,
      "outputs": [
        {
          "output_type": "display_data",
          "data": {
            "image/png": "[encoded data removed]",
            "text/plain": [
              "<Figure size 432x288 with 1 Axes>"
            ]
          },
          "metadata": {
            "tags": []
          }
        }
      ]
    },
    {
      "cell_type": "markdown",
      "metadata": {
        "id": "SXFyUYS7I_rp",
        "colab_type": "text"
      },
      "source": [
        "2. Xor problem with sigmoid"
      ]
    },
    {
      "cell_type": "code",
      "metadata": {
        "id": "kV7Ke5HaHysN",
        "colab_type": "code",
        "outputId": "81f9f07d-e486-4d6e-a0ee-1e38dd5502b7",
        "colab": {
          "base_uri": "https://localhost:8080/",
          "height": 139
        }
      },
      "source": [
        "class Layer:\n",
        "\n",
        "    def __init__(self, dim, id, act, act_prime, isoutputLayer = False):\n",
        "        self.weight = 2 * np.random.random(dim) - 1\n",
        "        self.delta = None\n",
        "        self.A = None\n",
        "        self.activation = act\n",
        "        self.activation_prime = act_prime\n",
        "        self.isoutputLayer = isoutputLayer\n",
        "        self.id = id\n",
        "\n",
        "\n",
        "    def forward(self, x):\n",
        "        z = np.dot(x, self.weight)\n",
        "        self.A = self.activation(z)\n",
        "        self.dZ = np.atleast_2d(self.activation_prime(z));\n",
        "\n",
        "        return self.A\n",
        "\n",
        "    def backward(self, y, rightLayer):\n",
        "        if self.isoutputLayer:\n",
        "            error = self.A - y\n",
        "            self.delta = np.atleast_2d(error * self.dZ)\n",
        "        else:\n",
        "            self.delta = np.atleast_2d(\n",
        "                np.dot(rightLayer.delta, rightLayer.weight.T)\n",
        "                * self.dZ)\n",
        "        return self.delta\n",
        "\n",
        "    def update(self, learning_rate, left_a):\n",
        "        a = np.atleast_2d(left_a)\n",
        "        d = np.atleast_2d(self.delta)\n",
        "        ad = a.T.dot(d)\n",
        "        self.weight -= learning_rate * ad\n",
        "\n",
        "\n",
        "class NeuralNetwork:\n",
        "\n",
        "    def __init__(self, layersDim, activation='tanh'):\n",
        "        if activation == 'sigmoid':\n",
        "            self.activation = sigmoid\n",
        "            self.activation_prime = sigmoid_prime\n",
        "        elif activation == 'tanh':\n",
        "            self.activation = tanh\n",
        "            self.activation_prime = tanh_prime\n",
        "        elif activation == 'relu':\n",
        "            self.activation = relu\n",
        "            self.activation_prime = relu_prime\n",
        "\n",
        "        self.layers = []\n",
        "        for i in range(1, len(layersDim) - 1):\n",
        "            dim = (layersDim[i - 1] + 1, layersDim[i] + 1)\n",
        "            self.layers.append(Layer(dim, i, self.activation, self.activation_prime))\n",
        "\n",
        "        dim = (layersDim[i] + 1, layersDim[i + 1])\n",
        "        self.layers.append(Layer(dim, len(layersDim) - 1, self.activation, self.activation_prime, True))\n",
        "\n",
        "    def fit(self, X, y, learning_rate=0.1, epochs=10000):\n",
        "        # Add column of ones to X\n",
        "        # This is to add the bias unit to the input layer\n",
        "        ones = np.atleast_2d(np.ones(X.shape[0]))\n",
        "        X = np.concatenate((ones.T, X), axis=1)\n",
        "\n",
        "\n",
        "        for k in range(epochs):\n",
        "\n",
        "\n",
        "            a=X\n",
        "\n",
        "            for l in range(len(self.layers)):\n",
        "                a = self.layers[l].forward(a)\n",
        "\n",
        "\n",
        "            delta = self.layers[-1].backward(y, None)\n",
        "\n",
        "            for l in range(len(self.layers) - 2, -1, -1):\n",
        "                delta = self.layers[l].backward(delta, self.layers[l+1])\n",
        "\n",
        "\n",
        "\n",
        "            a = X\n",
        "            for layer in self.layers:\n",
        "                layer.update(learning_rate, a)\n",
        "                a = layer.A\n",
        "\n",
        "    def predict(self, x):\n",
        "        a = np.concatenate((np.ones(1).T, np.array(x)), axis=0)\n",
        "        for l in range(0, len(self.layers)):\n",
        "            a = self.layers[l].forward(a)\n",
        "        return a\n",
        "\n",
        "\n",
        "\n",
        "if __name__ == '__main__':\n",
        "\n",
        "    X = np.array([ [0, 0],\n",
        "                  [0, 1],\n",
        "                  [1, 0],\n",
        "                  [1, 1] ])\n",
        "\n",
        "    y = np.array([[0, 1, 1, 0]]).T\n",
        "\n",
        "\n",
        "    #  sigmoid\n",
        "    nn = NeuralNetwork([2, 3, 4, 1], activation='sigmoid')\n",
        "\n",
        "    nn.fit(X, y, learning_rate=0.3, epochs=20000)\n",
        "\n",
        "    print(\"\\n\\nResult with sigmoid\")\n",
        "    for e in X:\n",
        "        print(e, nn.predict(e))\n"
      ],
      "execution_count": 8,
      "outputs": [
        {
          "output_type": "stream",
          "text": [
            "\n",
            "\n",
            "Result with sigmoid\n",
            "[0 0] [0.00590008]\n",
            "[0 1] [0.99269759]\n",
            "[1 0] [0.99262202]\n",
            "[1 1] [0.00925827]\n"
          ],
          "name": "stdout"
        }
      ]
    },
    {
      "cell_type": "code",
      "metadata": {
        "id": "ZxKIbLAL-LCp",
        "colab_type": "code",
        "colab": {}
      },
      "source": [
        ""
      ],
      "execution_count": 0,
      "outputs": []
    }
  ]
}